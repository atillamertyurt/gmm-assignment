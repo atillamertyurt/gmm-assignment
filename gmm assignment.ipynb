{
 "cells": [
  {
   "cell_type": "code",
   "execution_count": 7,
   "metadata": {},
   "outputs": [],
   "source": [
    "import numpy as np\n",
    "import pandas as pd\n",
    "import matplotlib.pyplot as plt\n",
    "from scipy.cluster.hierarchy import dendrogram, linkage\n",
    "from sklearn.preprocessing import StandardScaler\n",
    "from sklearn.mixture import GaussianMixture\n",
    "from sklearn import metrics\n",
    "from sqlalchemy import create_engine\n",
    "import warnings\n",
    "warnings.filterwarnings(\"ignore\")"
   ]
  },
  {
   "cell_type": "code",
   "execution_count": 8,
   "metadata": {},
   "outputs": [],
   "source": [
    "postgres_user = 'dsbc_student'\n",
    "postgres_pw = '7*.8G9QH21'\n",
    "postgres_host = '142.93.121.174'\n",
    "postgres_port = '5432'\n",
    "postgres_db = 'heartdisease'\n",
    "\n",
    "engine = create_engine('postgresql://{}:{}@{}:{}/{}'.format(\n",
    "    postgres_user, postgres_pw, postgres_host, postgres_port, postgres_db))\n",
    "heartdisease_df = pd.read_sql_query('select * from heartdisease',con=engine)\n",
    "\n",
    "engine.dispose()"
   ]
  },
  {
   "cell_type": "code",
   "execution_count": 9,
   "metadata": {},
   "outputs": [],
   "source": [
    "# Define the features and the outcome\n",
    "X = heartdisease_df.iloc[:, :13]\n",
    "y = heartdisease_df.iloc[:, 13]\n",
    "\n",
    "# Replace missing values (marked by ?) with a 0\n",
    "X = X.replace(to_replace='?', value=0)\n",
    "\n",
    "# Binarize y so that 1 means heart disease diagnosis and 0 means no diagnosis\n",
    "y = np.where(y > 0, 0, 1)\n",
    "\n",
    "scaler = StandardScaler()\n",
    "X_std = scaler.fit_transform(X)"
   ]
  },
  {
   "cell_type": "code",
   "execution_count": 10,
   "metadata": {},
   "outputs": [],
   "source": [
    "gmm_cluster = GaussianMixture(n_components=2, random_state=123)\n",
    "\n",
    "# Fit model\n",
    "clusters = gmm_cluster.fit_predict(X_std)"
   ]
  },
  {
   "cell_type": "code",
   "execution_count": 11,
   "metadata": {},
   "outputs": [
    {
     "name": "stdout",
     "output_type": "stream",
     "text": [
      "Adjusted Rand Index of the GMM solution: 0.18389186035089963\n",
      "The silhoutte score of the GMM solution: 0.13628813153331445\n"
     ]
    }
   ],
   "source": [
    "print(\"Adjusted Rand Index of the GMM solution: {}\"\n",
    "      .format(metrics.adjusted_rand_score(y, clusters)))\n",
    "print(\"The silhoutte score of the GMM solution: {}\"\n",
    "      .format(metrics.silhouette_score(X_std, clusters, metric='euclidean')))"
   ]
  },
  {
   "cell_type": "markdown",
   "metadata": {},
   "source": [
    "It's the worst result so far in comparison to kmeans, dbscan etc."
   ]
  },
  {
   "cell_type": "code",
   "execution_count": 12,
   "metadata": {},
   "outputs": [
    {
     "name": "stdout",
     "output_type": "stream",
     "text": [
      "ARI score with covariance_type=full: 0.18389186035089963\n",
      "Silhouette score with covariance_type=full: 0.13628813153331445\n",
      "------------------------------------------------------\n",
      "ARI score with covariance_type=tied: 0.18389186035089963\n",
      "Silhouette score with covariance_type=tied: 0.13628813153331445\n",
      "------------------------------------------------------\n",
      "ARI score with covariance_type=diag: 0.18389186035089963\n",
      "Silhouette score with covariance_type=diag: 0.13628813153331445\n",
      "------------------------------------------------------\n",
      "ARI score with covariance_type=spherical: 0.20765243525722465\n",
      "Silhouette score with covariance_type=spherical: 0.12468753110276876\n",
      "------------------------------------------------------\n"
     ]
    }
   ],
   "source": [
    "gmm_cluster = GaussianMixture(n_components=2, random_state=123, covariance_type=\"full\")\n",
    "\n",
    "# Fit model\n",
    "clusters = gmm_cluster.fit_predict(X_std)\n",
    "\n",
    "print(\"ARI score with covariance_type=full: {}\".format(\n",
    "    metrics.adjusted_rand_score(y, clusters)))\n",
    "\n",
    "print(\"Silhouette score with covariance_type=full: {}\".format(\n",
    "    metrics.silhouette_score(X_std, clusters, metric='euclidean')))\n",
    "print(\"------------------------------------------------------\")\n",
    "\n",
    "# Defining the agglomerative clustering\n",
    "gmm_cluster = GaussianMixture(n_components=2, random_state=123, covariance_type=\"tied\")\n",
    "\n",
    "# Fit model\n",
    "clusters = gmm_cluster.fit_predict(X_std)\n",
    "\n",
    "print(\"ARI score with covariance_type=tied: {}\".format(\n",
    "    metrics.adjusted_rand_score(y, clusters)))\n",
    "\n",
    "print(\"Silhouette score with covariance_type=tied: {}\".format(\n",
    "    metrics.silhouette_score(X_std, clusters, metric='euclidean')))\n",
    "print(\"------------------------------------------------------\")\n",
    "\n",
    "# Defining the agglomerative clustering\n",
    "gmm_cluster = GaussianMixture(n_components=2, random_state=123, covariance_type=\"diag\")\n",
    "\n",
    "# Fit model\n",
    "clusters = gmm_cluster.fit_predict(X_std)\n",
    "\n",
    "print(\"ARI score with covariance_type=diag: {}\".format(\n",
    "    metrics.adjusted_rand_score(y, clusters)))\n",
    "\n",
    "print(\"Silhouette score with covariance_type=diag: {}\".format(\n",
    "    metrics.silhouette_score(X_std, clusters, metric='euclidean')))\n",
    "print(\"------------------------------------------------------\")\n",
    "\n",
    "\n",
    "# Defining the agglomerative clustering\n",
    "gmm_cluster = GaussianMixture(n_components=2, random_state=123, covariance_type=\"spherical\")\n",
    "\n",
    "# Fit model\n",
    "clusters = gmm_cluster.fit_predict(X_std)\n",
    "\n",
    "print(\"ARI score with covariance_type=spherical: {}\".format(\n",
    "    metrics.adjusted_rand_score(y, clusters)))\n",
    "\n",
    "print(\"Silhouette score with covariance_type=spherical: {}\".format(\n",
    "    metrics.silhouette_score(X_std, clusters, metric='euclidean')))\n",
    "print(\"------------------------------------------------------\")"
   ]
  },
  {
   "cell_type": "markdown",
   "metadata": {},
   "source": [
    "Spherical has a higher ARI however, its silhouette score is the lowest. Other types are all same."
   ]
  }
 ],
 "metadata": {
  "kernelspec": {
   "display_name": "Python 3",
   "language": "python",
   "name": "python3"
  },
  "language_info": {
   "codemirror_mode": {
    "name": "ipython",
    "version": 3
   },
   "file_extension": ".py",
   "mimetype": "text/x-python",
   "name": "python",
   "nbconvert_exporter": "python",
   "pygments_lexer": "ipython3",
   "version": "3.7.4"
  }
 },
 "nbformat": 4,
 "nbformat_minor": 2
}
